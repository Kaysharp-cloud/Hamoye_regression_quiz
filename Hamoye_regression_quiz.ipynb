{
 "cells": [
  {
   "cell_type": "markdown",
   "id": "7d7ce1ec",
   "metadata": {},
   "source": [
    "Question 1: The percent of the total variation of the dependent variable Y explained by the set of independent variables X is measured by\n"
   ]
  },
  {
   "cell_type": "markdown",
   "id": "e271f82d",
   "metadata": {},
   "source": [
    "Answer:\n",
    "The coefficient of skewness measures the asymmetry of the distribution of a single variable. It does not directly quantify the relationship or variation explained by the independent variables.\n",
    "\n",
    "The coefficient of correlation, often represented by the Pearson correlation coefficient (r), measures the strength and direction of the linear relationship between two variables. It does not specifically capture the proportion of the variation in the dependent variable explained by the independent variables.\n",
    "\n",
    "Multicollinearity refers to the presence of high correlation or interdependence among the independent variables in a regression model. It does not directly measure the percentage of variation explained by the independent variables.\n",
    "\n",
    "Therefore, the correct measure to quantify the percentage of the total variation of the dependent variable Y explained by the set of independent variables X is the coefficient of determination."
   ]
  },
  {
   "cell_type": "markdown",
   "id": "e4c198d3",
   "metadata": {},
   "source": [
    "Question 2: How do you define a Residual"
   ]
  },
  {
   "cell_type": "markdown",
   "id": "2f39bdd5",
   "metadata": {},
   "source": [
    "Answer: The formula for calculating residuals is:\n",
    "\n",
    "Residual = Observed Value - Predicted Value\n",
    "\n",
    "Residuals represent the unexplained variation in the dependent variable that is not accounted for by the independent variables in the regression model. They provide a measure of how well the model fits the data, as smaller residuals indicate a better fit.\n",
    "\n",
    "Now, regarding the term \"type 1 error,\" it is not directly related to residuals. Type 1 error is a concept associated with hypothesis testing and occurs when the null hypothesis is wrongly rejected, implying a false positive conclusion. It refers to the situation where a statistical test incorrectly indicates a significant effect or relationship when, in reality, no such effect or relationship exists.\n",
    "\n",
    "therefore the anwer is Y-Y^"
   ]
  },
  {
   "cell_type": "markdown",
   "id": "b3a8b2d7",
   "metadata": {},
   "source": [
    "Question : The straight line graph of the equation Y = a + BX, the slope is horizontal if"
   ]
  },
  {
   "cell_type": "markdown",
   "id": "84e1e587",
   "metadata": {},
   "source": [
    "Answer\n",
    "From the equation of a straight line Y = a + BX\n",
    "a is the intercept and b is the slope, and the slope is the ratio of the change in y (vertical) to the change in x(horizontal). when the slope is horizontal it means that there is no change in vertical axis (dy=0). therefore b=0"
   ]
  },
  {
   "cell_type": "markdown",
   "id": "958823d3",
   "metadata": {},
   "source": [
    "Question: Which of the one is true about Heteroskedasticity?"
   ]
  },
  {
   "cell_type": "markdown",
   "id": "01b96ac1",
   "metadata": {},
   "source": [
    "Heteroskedasticity refers to a situation in regression analysis where the variability of the error term (residuals) is not constant across different levels of the independent variables. In other words, the variance of the error term is not consistent throughout the range of the independent variables.\n",
    "\n",
    "Among the options provided, the true statement about heteroskedasticity is:\n",
    "\n",
    "Heteroskedasticity is present when linear regression has varying error terms"
   ]
  },
  {
   "cell_type": "markdown",
   "id": "fc1277f8",
   "metadata": {},
   "source": [
    "Question: Generally, which of the following method(s) is used for predicting continuous dependent variables?\n",
    "\n",
    "1. Linear Regression\n",
    "\n",
    "2. Logistic Regression"
   ]
  },
  {
   "cell_type": "markdown",
   "id": "8190df9b",
   "metadata": {},
   "source": [
    "Linear Regression: Linear regression is a statistical modeling technique used to establish a relationship between a dependent variable and one or more independent variables. It assumes a linear relationship between the independent variables and the continuous dependent variable. The goal is to create a linear equation that best fits the data and can be used for prediction or inference.\n",
    "\n",
    "Logistic Regression: Logistic regression, on the other hand, is used for predicting categorical dependent variables, specifically binary outcomes (e.g., yes/no, true/false). It models the relationship between the independent variables and the probability of the binary outcome using a logistic function.\n",
    "\n",
    "Therefore, when predicting continuous dependent variables, linear regression is the appropriate method to use."
   ]
  },
  {
   "cell_type": "markdown",
   "id": "87f80028",
   "metadata": {},
   "source": [
    "Question:\n",
    "    From the following options below, which of these is/are true about “Ridge” or “Lasso” regression methods in case of feature selection?"
   ]
  },
  {
   "cell_type": "markdown",
   "id": "666a5df7",
   "metadata": {},
   "source": [
    "Answer: \n",
    "Ridge regression and Lasso regression are both regularization techniques used in linear regression to handle multicollinearity and improve model performance. While they can help with feature selection indirectly by reducing the impact of less important features, they do not directly perform subset selection of features in the same way as dedicated feature selection methods.\n",
    "therefore none of the above is the answer"
   ]
  },
  {
   "cell_type": "markdown",
   "id": "9fe6765a",
   "metadata": {},
   "source": [
    "Question: Which of the following sentences is/are true about outliers in Linear Regression:"
   ]
  },
  {
   "cell_type": "markdown",
   "id": "586e84b2",
   "metadata": {},
   "source": [
    "Answer: Outliers are data points that significantly deviate from the overall pattern or trend of the data. They can have a substantial impact on the estimation of the regression coefficients and, consequently, on the model's predictions.\n",
    "\n",
    "In linear regression, the model aims to find the best-fit line that minimizes the sum of squared residuals (the vertical distances between the observed data points and the predicted values on the line). Outliers, which lie far away from the majority of the data, can distort the line and affect the calculation of the regression coefficients.\n",
    "Linear regression is sensitive to outliers"
   ]
  },
  {
   "cell_type": "markdown",
   "id": "6a535934",
   "metadata": {},
   "source": [
    "Question:\n",
    "Which of the following metrics can be used for evaluating regression models?\n",
    "\n",
    "1. R Squared\n",
    "\n",
    "2. Adjusted R Squared\n",
    "\n",
    "3. F Statistics\n",
    "\n",
    "4. RMSE / MSE / MAE"
   ]
  },
  {
   "cell_type": "markdown",
   "id": "9c50d023",
   "metadata": {},
   "source": [
    "Answer:\n",
    "They are all used for evaluating regression models"
   ]
  },
  {
   "cell_type": "markdown",
   "id": "f1e87512",
   "metadata": {},
   "source": [
    "Question: A best fit line relating X and Y has a R-Squared value of 0.75. How do I interpret this information?"
   ]
  },
  {
   "cell_type": "markdown",
   "id": "79298439",
   "metadata": {},
   "source": [
    "Answer: This simply means that 75% of the variance in Y is explained by X.\n",
    "An R-squared value of 0.75 means that 75% of the variance in the dependent variable (Y) can be explained by the independent variable (X) using the best-fit line. In other words, the linear relationship captured by the best-fit line accounts for 75% of the variability observed in the dependent variable"
   ]
  },
  {
   "cell_type": "markdown",
   "id": "ba98c7a7",
   "metadata": {},
   "source": [
    "Question:\n",
    "Which of the following measures is optimal for comparing the goodness of the fit of competing regression models involving the same dependent variable?"
   ]
  },
  {
   "cell_type": "markdown",
   "id": "936fefb8",
   "metadata": {},
   "source": [
    "answer:\n",
    "when comparing the goodness of fit of competing regression models involving the same dependent variable, the R-squared value is the most appropriate measure to evaluate and compare the models' performance."
   ]
  },
  {
   "cell_type": "markdown",
   "id": "4cdcfaee",
   "metadata": {},
   "source": [
    "Question: The Lasso can be interpreted as least-squares linear regression where:"
   ]
  },
  {
   "cell_type": "markdown",
   "id": "30ab9950",
   "metadata": {},
   "source": [
    "Answer: \n",
    "In Lasso regression, the weights (coefficients) of the model are regularized using the L1 norm penalty. The L1 norm, also known as the L1 regularization or L1 penalty, encourages sparsity in the weight vector by promoting some of the weights to be exactly zero. This helps in feature selection, as it allows the Lasso to automatically perform feature selection by shrinking the less important features to zero."
   ]
  },
  {
   "cell_type": "markdown",
   "id": "a0047ddf",
   "metadata": {},
   "source": [
    "Question:\n",
    "From the dataset, fit a linear model on the relationship between the temperature in the living room in Celsius (x = T2) and the temperature outside the building (y = T6). What is the R^2 value in two d.p.?"
   ]
  },
  {
   "cell_type": "code",
   "execution_count": 1,
   "id": "4d65b1a6",
   "metadata": {},
   "outputs": [],
   "source": [
    "import numpy as np\n",
    "import pandas as pd\n",
    "import seaborn as sns\n",
    "import matplotlib.pyplot as plt\n",
    "from sklearn.linear_model import LinearRegression\n",
    "from sklearn.metrics import r2_score\n",
    "from sklearn.model_selection import train_test_split\n",
    "from sklearn.preprocessing import MinMaxScaler\n",
    "from sklearn.metrics import mean_absolute_error"
   ]
  },
  {
   "cell_type": "code",
   "execution_count": 2,
   "id": "38e365b5",
   "metadata": {
    "scrolled": true
   },
   "outputs": [
    {
     "data": {
      "text/html": [
       "<div>\n",
       "<style scoped>\n",
       "    .dataframe tbody tr th:only-of-type {\n",
       "        vertical-align: middle;\n",
       "    }\n",
       "\n",
       "    .dataframe tbody tr th {\n",
       "        vertical-align: top;\n",
       "    }\n",
       "\n",
       "    .dataframe thead th {\n",
       "        text-align: right;\n",
       "    }\n",
       "</style>\n",
       "<table border=\"1\" class=\"dataframe\">\n",
       "  <thead>\n",
       "    <tr style=\"text-align: right;\">\n",
       "      <th></th>\n",
       "      <th>date</th>\n",
       "      <th>Appliances</th>\n",
       "      <th>lights</th>\n",
       "      <th>T1</th>\n",
       "      <th>RH_1</th>\n",
       "      <th>T2</th>\n",
       "      <th>RH_2</th>\n",
       "      <th>T3</th>\n",
       "      <th>RH_3</th>\n",
       "      <th>T4</th>\n",
       "      <th>...</th>\n",
       "      <th>T9</th>\n",
       "      <th>RH_9</th>\n",
       "      <th>T_out</th>\n",
       "      <th>Press_mm_hg</th>\n",
       "      <th>RH_out</th>\n",
       "      <th>Windspeed</th>\n",
       "      <th>Visibility</th>\n",
       "      <th>Tdewpoint</th>\n",
       "      <th>rv1</th>\n",
       "      <th>rv2</th>\n",
       "    </tr>\n",
       "  </thead>\n",
       "  <tbody>\n",
       "    <tr>\n",
       "      <th>0</th>\n",
       "      <td>2016-01-11 17:00:00</td>\n",
       "      <td>60</td>\n",
       "      <td>30</td>\n",
       "      <td>19.89</td>\n",
       "      <td>47.596667</td>\n",
       "      <td>19.2</td>\n",
       "      <td>44.790000</td>\n",
       "      <td>19.79</td>\n",
       "      <td>44.730000</td>\n",
       "      <td>19.000000</td>\n",
       "      <td>...</td>\n",
       "      <td>17.033333</td>\n",
       "      <td>45.53</td>\n",
       "      <td>6.600000</td>\n",
       "      <td>733.5</td>\n",
       "      <td>92.0</td>\n",
       "      <td>7.000000</td>\n",
       "      <td>63.000000</td>\n",
       "      <td>5.3</td>\n",
       "      <td>13.275433</td>\n",
       "      <td>13.275433</td>\n",
       "    </tr>\n",
       "    <tr>\n",
       "      <th>1</th>\n",
       "      <td>2016-01-11 17:10:00</td>\n",
       "      <td>60</td>\n",
       "      <td>30</td>\n",
       "      <td>19.89</td>\n",
       "      <td>46.693333</td>\n",
       "      <td>19.2</td>\n",
       "      <td>44.722500</td>\n",
       "      <td>19.79</td>\n",
       "      <td>44.790000</td>\n",
       "      <td>19.000000</td>\n",
       "      <td>...</td>\n",
       "      <td>17.066667</td>\n",
       "      <td>45.56</td>\n",
       "      <td>6.483333</td>\n",
       "      <td>733.6</td>\n",
       "      <td>92.0</td>\n",
       "      <td>6.666667</td>\n",
       "      <td>59.166667</td>\n",
       "      <td>5.2</td>\n",
       "      <td>18.606195</td>\n",
       "      <td>18.606195</td>\n",
       "    </tr>\n",
       "    <tr>\n",
       "      <th>2</th>\n",
       "      <td>2016-01-11 17:20:00</td>\n",
       "      <td>50</td>\n",
       "      <td>30</td>\n",
       "      <td>19.89</td>\n",
       "      <td>46.300000</td>\n",
       "      <td>19.2</td>\n",
       "      <td>44.626667</td>\n",
       "      <td>19.79</td>\n",
       "      <td>44.933333</td>\n",
       "      <td>18.926667</td>\n",
       "      <td>...</td>\n",
       "      <td>17.000000</td>\n",
       "      <td>45.50</td>\n",
       "      <td>6.366667</td>\n",
       "      <td>733.7</td>\n",
       "      <td>92.0</td>\n",
       "      <td>6.333333</td>\n",
       "      <td>55.333333</td>\n",
       "      <td>5.1</td>\n",
       "      <td>28.642668</td>\n",
       "      <td>28.642668</td>\n",
       "    </tr>\n",
       "    <tr>\n",
       "      <th>3</th>\n",
       "      <td>2016-01-11 17:30:00</td>\n",
       "      <td>50</td>\n",
       "      <td>40</td>\n",
       "      <td>19.89</td>\n",
       "      <td>46.066667</td>\n",
       "      <td>19.2</td>\n",
       "      <td>44.590000</td>\n",
       "      <td>19.79</td>\n",
       "      <td>45.000000</td>\n",
       "      <td>18.890000</td>\n",
       "      <td>...</td>\n",
       "      <td>17.000000</td>\n",
       "      <td>45.40</td>\n",
       "      <td>6.250000</td>\n",
       "      <td>733.8</td>\n",
       "      <td>92.0</td>\n",
       "      <td>6.000000</td>\n",
       "      <td>51.500000</td>\n",
       "      <td>5.0</td>\n",
       "      <td>45.410389</td>\n",
       "      <td>45.410389</td>\n",
       "    </tr>\n",
       "    <tr>\n",
       "      <th>4</th>\n",
       "      <td>2016-01-11 17:40:00</td>\n",
       "      <td>60</td>\n",
       "      <td>40</td>\n",
       "      <td>19.89</td>\n",
       "      <td>46.333333</td>\n",
       "      <td>19.2</td>\n",
       "      <td>44.530000</td>\n",
       "      <td>19.79</td>\n",
       "      <td>45.000000</td>\n",
       "      <td>18.890000</td>\n",
       "      <td>...</td>\n",
       "      <td>17.000000</td>\n",
       "      <td>45.40</td>\n",
       "      <td>6.133333</td>\n",
       "      <td>733.9</td>\n",
       "      <td>92.0</td>\n",
       "      <td>5.666667</td>\n",
       "      <td>47.666667</td>\n",
       "      <td>4.9</td>\n",
       "      <td>10.084097</td>\n",
       "      <td>10.084097</td>\n",
       "    </tr>\n",
       "  </tbody>\n",
       "</table>\n",
       "<p>5 rows × 29 columns</p>\n",
       "</div>"
      ],
      "text/plain": [
       "                  date  Appliances  lights     T1       RH_1    T2       RH_2  \\\n",
       "0  2016-01-11 17:00:00          60      30  19.89  47.596667  19.2  44.790000   \n",
       "1  2016-01-11 17:10:00          60      30  19.89  46.693333  19.2  44.722500   \n",
       "2  2016-01-11 17:20:00          50      30  19.89  46.300000  19.2  44.626667   \n",
       "3  2016-01-11 17:30:00          50      40  19.89  46.066667  19.2  44.590000   \n",
       "4  2016-01-11 17:40:00          60      40  19.89  46.333333  19.2  44.530000   \n",
       "\n",
       "      T3       RH_3         T4  ...         T9   RH_9     T_out  Press_mm_hg  \\\n",
       "0  19.79  44.730000  19.000000  ...  17.033333  45.53  6.600000        733.5   \n",
       "1  19.79  44.790000  19.000000  ...  17.066667  45.56  6.483333        733.6   \n",
       "2  19.79  44.933333  18.926667  ...  17.000000  45.50  6.366667        733.7   \n",
       "3  19.79  45.000000  18.890000  ...  17.000000  45.40  6.250000        733.8   \n",
       "4  19.79  45.000000  18.890000  ...  17.000000  45.40  6.133333        733.9   \n",
       "\n",
       "   RH_out  Windspeed  Visibility  Tdewpoint        rv1        rv2  \n",
       "0    92.0   7.000000   63.000000        5.3  13.275433  13.275433  \n",
       "1    92.0   6.666667   59.166667        5.2  18.606195  18.606195  \n",
       "2    92.0   6.333333   55.333333        5.1  28.642668  28.642668  \n",
       "3    92.0   6.000000   51.500000        5.0  45.410389  45.410389  \n",
       "4    92.0   5.666667   47.666667        4.9  10.084097  10.084097  \n",
       "\n",
       "[5 rows x 29 columns]"
      ]
     },
     "execution_count": 2,
     "metadata": {},
     "output_type": "execute_result"
    }
   ],
   "source": [
    "df = pd.read_csv('energydata_complete.csv')\n",
    "df.head()"
   ]
  },
  {
   "cell_type": "code",
   "execution_count": 3,
   "id": "d7a82be1",
   "metadata": {},
   "outputs": [
    {
     "data": {
      "text/html": [
       "<div>\n",
       "<style scoped>\n",
       "    .dataframe tbody tr th:only-of-type {\n",
       "        vertical-align: middle;\n",
       "    }\n",
       "\n",
       "    .dataframe tbody tr th {\n",
       "        vertical-align: top;\n",
       "    }\n",
       "\n",
       "    .dataframe thead th {\n",
       "        text-align: right;\n",
       "    }\n",
       "</style>\n",
       "<table border=\"1\" class=\"dataframe\">\n",
       "  <thead>\n",
       "    <tr style=\"text-align: right;\">\n",
       "      <th></th>\n",
       "      <th>Appliances</th>\n",
       "      <th>T1</th>\n",
       "      <th>RH_1</th>\n",
       "      <th>T2</th>\n",
       "      <th>RH_2</th>\n",
       "      <th>T3</th>\n",
       "      <th>RH_3</th>\n",
       "      <th>T4</th>\n",
       "      <th>RH_4</th>\n",
       "      <th>T5</th>\n",
       "      <th>...</th>\n",
       "      <th>T9</th>\n",
       "      <th>RH_9</th>\n",
       "      <th>T_out</th>\n",
       "      <th>Press_mm_hg</th>\n",
       "      <th>RH_out</th>\n",
       "      <th>Windspeed</th>\n",
       "      <th>Visibility</th>\n",
       "      <th>Tdewpoint</th>\n",
       "      <th>rv1</th>\n",
       "      <th>rv2</th>\n",
       "    </tr>\n",
       "  </thead>\n",
       "  <tbody>\n",
       "    <tr>\n",
       "      <th>0</th>\n",
       "      <td>60</td>\n",
       "      <td>19.89</td>\n",
       "      <td>47.596667</td>\n",
       "      <td>19.2</td>\n",
       "      <td>44.7900</td>\n",
       "      <td>19.79</td>\n",
       "      <td>44.73</td>\n",
       "      <td>19.0</td>\n",
       "      <td>45.566667</td>\n",
       "      <td>17.166667</td>\n",
       "      <td>...</td>\n",
       "      <td>17.033333</td>\n",
       "      <td>45.53</td>\n",
       "      <td>6.600000</td>\n",
       "      <td>733.5</td>\n",
       "      <td>92.0</td>\n",
       "      <td>7.000000</td>\n",
       "      <td>63.000000</td>\n",
       "      <td>5.3</td>\n",
       "      <td>13.275433</td>\n",
       "      <td>13.275433</td>\n",
       "    </tr>\n",
       "    <tr>\n",
       "      <th>1</th>\n",
       "      <td>60</td>\n",
       "      <td>19.89</td>\n",
       "      <td>46.693333</td>\n",
       "      <td>19.2</td>\n",
       "      <td>44.7225</td>\n",
       "      <td>19.79</td>\n",
       "      <td>44.79</td>\n",
       "      <td>19.0</td>\n",
       "      <td>45.992500</td>\n",
       "      <td>17.166667</td>\n",
       "      <td>...</td>\n",
       "      <td>17.066667</td>\n",
       "      <td>45.56</td>\n",
       "      <td>6.483333</td>\n",
       "      <td>733.6</td>\n",
       "      <td>92.0</td>\n",
       "      <td>6.666667</td>\n",
       "      <td>59.166667</td>\n",
       "      <td>5.2</td>\n",
       "      <td>18.606195</td>\n",
       "      <td>18.606195</td>\n",
       "    </tr>\n",
       "  </tbody>\n",
       "</table>\n",
       "<p>2 rows × 27 columns</p>\n",
       "</div>"
      ],
      "text/plain": [
       "   Appliances     T1       RH_1    T2     RH_2     T3   RH_3    T4       RH_4  \\\n",
       "0          60  19.89  47.596667  19.2  44.7900  19.79  44.73  19.0  45.566667   \n",
       "1          60  19.89  46.693333  19.2  44.7225  19.79  44.79  19.0  45.992500   \n",
       "\n",
       "          T5  ...         T9   RH_9     T_out  Press_mm_hg  RH_out  Windspeed  \\\n",
       "0  17.166667  ...  17.033333  45.53  6.600000        733.5    92.0   7.000000   \n",
       "1  17.166667  ...  17.066667  45.56  6.483333        733.6    92.0   6.666667   \n",
       "\n",
       "   Visibility  Tdewpoint        rv1        rv2  \n",
       "0   63.000000        5.3  13.275433  13.275433  \n",
       "1   59.166667        5.2  18.606195  18.606195  \n",
       "\n",
       "[2 rows x 27 columns]"
      ]
     },
     "execution_count": 3,
     "metadata": {},
     "output_type": "execute_result"
    }
   ],
   "source": [
    "# Remove columns 'date' and 'lights'\n",
    "df = df.drop(['date', 'lights'], axis=1)\n",
    "df.head(2)"
   ]
  },
  {
   "cell_type": "code",
   "execution_count": 4,
   "id": "1441eeee",
   "metadata": {
    "scrolled": true
   },
   "outputs": [
    {
     "data": {
      "text/html": [
       "<div>\n",
       "<style scoped>\n",
       "    .dataframe tbody tr th:only-of-type {\n",
       "        vertical-align: middle;\n",
       "    }\n",
       "\n",
       "    .dataframe tbody tr th {\n",
       "        vertical-align: top;\n",
       "    }\n",
       "\n",
       "    .dataframe thead th {\n",
       "        text-align: right;\n",
       "    }\n",
       "</style>\n",
       "<table border=\"1\" class=\"dataframe\">\n",
       "  <thead>\n",
       "    <tr style=\"text-align: right;\">\n",
       "      <th></th>\n",
       "      <th>count</th>\n",
       "      <th>mean</th>\n",
       "      <th>std</th>\n",
       "      <th>min</th>\n",
       "      <th>25%</th>\n",
       "      <th>50%</th>\n",
       "      <th>75%</th>\n",
       "      <th>max</th>\n",
       "    </tr>\n",
       "  </thead>\n",
       "  <tbody>\n",
       "    <tr>\n",
       "      <th>Appliances</th>\n",
       "      <td>19735.0</td>\n",
       "      <td>97.694958</td>\n",
       "      <td>102.524891</td>\n",
       "      <td>10.000000</td>\n",
       "      <td>50.000000</td>\n",
       "      <td>60.000000</td>\n",
       "      <td>100.000000</td>\n",
       "      <td>1080.000000</td>\n",
       "    </tr>\n",
       "    <tr>\n",
       "      <th>T1</th>\n",
       "      <td>19735.0</td>\n",
       "      <td>21.686571</td>\n",
       "      <td>1.606066</td>\n",
       "      <td>16.790000</td>\n",
       "      <td>20.760000</td>\n",
       "      <td>21.600000</td>\n",
       "      <td>22.600000</td>\n",
       "      <td>26.260000</td>\n",
       "    </tr>\n",
       "    <tr>\n",
       "      <th>RH_1</th>\n",
       "      <td>19735.0</td>\n",
       "      <td>40.259739</td>\n",
       "      <td>3.979299</td>\n",
       "      <td>27.023333</td>\n",
       "      <td>37.333333</td>\n",
       "      <td>39.656667</td>\n",
       "      <td>43.066667</td>\n",
       "      <td>63.360000</td>\n",
       "    </tr>\n",
       "    <tr>\n",
       "      <th>T2</th>\n",
       "      <td>19735.0</td>\n",
       "      <td>20.341219</td>\n",
       "      <td>2.192974</td>\n",
       "      <td>16.100000</td>\n",
       "      <td>18.790000</td>\n",
       "      <td>20.000000</td>\n",
       "      <td>21.500000</td>\n",
       "      <td>29.856667</td>\n",
       "    </tr>\n",
       "    <tr>\n",
       "      <th>RH_2</th>\n",
       "      <td>19735.0</td>\n",
       "      <td>40.420420</td>\n",
       "      <td>4.069813</td>\n",
       "      <td>20.463333</td>\n",
       "      <td>37.900000</td>\n",
       "      <td>40.500000</td>\n",
       "      <td>43.260000</td>\n",
       "      <td>56.026667</td>\n",
       "    </tr>\n",
       "    <tr>\n",
       "      <th>T3</th>\n",
       "      <td>19735.0</td>\n",
       "      <td>22.267611</td>\n",
       "      <td>2.006111</td>\n",
       "      <td>17.200000</td>\n",
       "      <td>20.790000</td>\n",
       "      <td>22.100000</td>\n",
       "      <td>23.290000</td>\n",
       "      <td>29.236000</td>\n",
       "    </tr>\n",
       "    <tr>\n",
       "      <th>RH_3</th>\n",
       "      <td>19735.0</td>\n",
       "      <td>39.242500</td>\n",
       "      <td>3.254576</td>\n",
       "      <td>28.766667</td>\n",
       "      <td>36.900000</td>\n",
       "      <td>38.530000</td>\n",
       "      <td>41.760000</td>\n",
       "      <td>50.163333</td>\n",
       "    </tr>\n",
       "    <tr>\n",
       "      <th>T4</th>\n",
       "      <td>19735.0</td>\n",
       "      <td>20.855335</td>\n",
       "      <td>2.042884</td>\n",
       "      <td>15.100000</td>\n",
       "      <td>19.530000</td>\n",
       "      <td>20.666667</td>\n",
       "      <td>22.100000</td>\n",
       "      <td>26.200000</td>\n",
       "    </tr>\n",
       "    <tr>\n",
       "      <th>RH_4</th>\n",
       "      <td>19735.0</td>\n",
       "      <td>39.026904</td>\n",
       "      <td>4.341321</td>\n",
       "      <td>27.660000</td>\n",
       "      <td>35.530000</td>\n",
       "      <td>38.400000</td>\n",
       "      <td>42.156667</td>\n",
       "      <td>51.090000</td>\n",
       "    </tr>\n",
       "    <tr>\n",
       "      <th>T5</th>\n",
       "      <td>19735.0</td>\n",
       "      <td>19.592106</td>\n",
       "      <td>1.844623</td>\n",
       "      <td>15.330000</td>\n",
       "      <td>18.277500</td>\n",
       "      <td>19.390000</td>\n",
       "      <td>20.619643</td>\n",
       "      <td>25.795000</td>\n",
       "    </tr>\n",
       "    <tr>\n",
       "      <th>RH_5</th>\n",
       "      <td>19735.0</td>\n",
       "      <td>50.949283</td>\n",
       "      <td>9.022034</td>\n",
       "      <td>29.815000</td>\n",
       "      <td>45.400000</td>\n",
       "      <td>49.090000</td>\n",
       "      <td>53.663333</td>\n",
       "      <td>96.321667</td>\n",
       "    </tr>\n",
       "    <tr>\n",
       "      <th>T6</th>\n",
       "      <td>19735.0</td>\n",
       "      <td>7.910939</td>\n",
       "      <td>6.090347</td>\n",
       "      <td>-6.065000</td>\n",
       "      <td>3.626667</td>\n",
       "      <td>7.300000</td>\n",
       "      <td>11.256000</td>\n",
       "      <td>28.290000</td>\n",
       "    </tr>\n",
       "    <tr>\n",
       "      <th>RH_6</th>\n",
       "      <td>19735.0</td>\n",
       "      <td>54.609083</td>\n",
       "      <td>31.149806</td>\n",
       "      <td>1.000000</td>\n",
       "      <td>30.025000</td>\n",
       "      <td>55.290000</td>\n",
       "      <td>83.226667</td>\n",
       "      <td>99.900000</td>\n",
       "    </tr>\n",
       "    <tr>\n",
       "      <th>T7</th>\n",
       "      <td>19735.0</td>\n",
       "      <td>20.267106</td>\n",
       "      <td>2.109993</td>\n",
       "      <td>15.390000</td>\n",
       "      <td>18.700000</td>\n",
       "      <td>20.033333</td>\n",
       "      <td>21.600000</td>\n",
       "      <td>26.000000</td>\n",
       "    </tr>\n",
       "    <tr>\n",
       "      <th>RH_7</th>\n",
       "      <td>19735.0</td>\n",
       "      <td>35.388200</td>\n",
       "      <td>5.114208</td>\n",
       "      <td>23.200000</td>\n",
       "      <td>31.500000</td>\n",
       "      <td>34.863333</td>\n",
       "      <td>39.000000</td>\n",
       "      <td>51.400000</td>\n",
       "    </tr>\n",
       "    <tr>\n",
       "      <th>T8</th>\n",
       "      <td>19735.0</td>\n",
       "      <td>22.029107</td>\n",
       "      <td>1.956162</td>\n",
       "      <td>16.306667</td>\n",
       "      <td>20.790000</td>\n",
       "      <td>22.100000</td>\n",
       "      <td>23.390000</td>\n",
       "      <td>27.230000</td>\n",
       "    </tr>\n",
       "    <tr>\n",
       "      <th>RH_8</th>\n",
       "      <td>19735.0</td>\n",
       "      <td>42.936165</td>\n",
       "      <td>5.224361</td>\n",
       "      <td>29.600000</td>\n",
       "      <td>39.066667</td>\n",
       "      <td>42.375000</td>\n",
       "      <td>46.536000</td>\n",
       "      <td>58.780000</td>\n",
       "    </tr>\n",
       "    <tr>\n",
       "      <th>T9</th>\n",
       "      <td>19735.0</td>\n",
       "      <td>19.485828</td>\n",
       "      <td>2.014712</td>\n",
       "      <td>14.890000</td>\n",
       "      <td>18.000000</td>\n",
       "      <td>19.390000</td>\n",
       "      <td>20.600000</td>\n",
       "      <td>24.500000</td>\n",
       "    </tr>\n",
       "    <tr>\n",
       "      <th>RH_9</th>\n",
       "      <td>19735.0</td>\n",
       "      <td>41.552401</td>\n",
       "      <td>4.151497</td>\n",
       "      <td>29.166667</td>\n",
       "      <td>38.500000</td>\n",
       "      <td>40.900000</td>\n",
       "      <td>44.338095</td>\n",
       "      <td>53.326667</td>\n",
       "    </tr>\n",
       "    <tr>\n",
       "      <th>T_out</th>\n",
       "      <td>19735.0</td>\n",
       "      <td>7.411665</td>\n",
       "      <td>5.317409</td>\n",
       "      <td>-5.000000</td>\n",
       "      <td>3.666667</td>\n",
       "      <td>6.916667</td>\n",
       "      <td>10.408333</td>\n",
       "      <td>26.100000</td>\n",
       "    </tr>\n",
       "    <tr>\n",
       "      <th>Press_mm_hg</th>\n",
       "      <td>19735.0</td>\n",
       "      <td>755.522602</td>\n",
       "      <td>7.399441</td>\n",
       "      <td>729.300000</td>\n",
       "      <td>750.933333</td>\n",
       "      <td>756.100000</td>\n",
       "      <td>760.933333</td>\n",
       "      <td>772.300000</td>\n",
       "    </tr>\n",
       "    <tr>\n",
       "      <th>RH_out</th>\n",
       "      <td>19735.0</td>\n",
       "      <td>79.750418</td>\n",
       "      <td>14.901088</td>\n",
       "      <td>24.000000</td>\n",
       "      <td>70.333333</td>\n",
       "      <td>83.666667</td>\n",
       "      <td>91.666667</td>\n",
       "      <td>100.000000</td>\n",
       "    </tr>\n",
       "    <tr>\n",
       "      <th>Windspeed</th>\n",
       "      <td>19735.0</td>\n",
       "      <td>4.039752</td>\n",
       "      <td>2.451221</td>\n",
       "      <td>0.000000</td>\n",
       "      <td>2.000000</td>\n",
       "      <td>3.666667</td>\n",
       "      <td>5.500000</td>\n",
       "      <td>14.000000</td>\n",
       "    </tr>\n",
       "    <tr>\n",
       "      <th>Visibility</th>\n",
       "      <td>19735.0</td>\n",
       "      <td>38.330834</td>\n",
       "      <td>11.794719</td>\n",
       "      <td>1.000000</td>\n",
       "      <td>29.000000</td>\n",
       "      <td>40.000000</td>\n",
       "      <td>40.000000</td>\n",
       "      <td>66.000000</td>\n",
       "    </tr>\n",
       "    <tr>\n",
       "      <th>Tdewpoint</th>\n",
       "      <td>19735.0</td>\n",
       "      <td>3.760707</td>\n",
       "      <td>4.194648</td>\n",
       "      <td>-6.600000</td>\n",
       "      <td>0.900000</td>\n",
       "      <td>3.433333</td>\n",
       "      <td>6.566667</td>\n",
       "      <td>15.500000</td>\n",
       "    </tr>\n",
       "    <tr>\n",
       "      <th>rv1</th>\n",
       "      <td>19735.0</td>\n",
       "      <td>24.988033</td>\n",
       "      <td>14.496634</td>\n",
       "      <td>0.005322</td>\n",
       "      <td>12.497889</td>\n",
       "      <td>24.897653</td>\n",
       "      <td>37.583769</td>\n",
       "      <td>49.996530</td>\n",
       "    </tr>\n",
       "    <tr>\n",
       "      <th>rv2</th>\n",
       "      <td>19735.0</td>\n",
       "      <td>24.988033</td>\n",
       "      <td>14.496634</td>\n",
       "      <td>0.005322</td>\n",
       "      <td>12.497889</td>\n",
       "      <td>24.897653</td>\n",
       "      <td>37.583769</td>\n",
       "      <td>49.996530</td>\n",
       "    </tr>\n",
       "  </tbody>\n",
       "</table>\n",
       "</div>"
      ],
      "text/plain": [
       "               count        mean         std         min         25%  \\\n",
       "Appliances   19735.0   97.694958  102.524891   10.000000   50.000000   \n",
       "T1           19735.0   21.686571    1.606066   16.790000   20.760000   \n",
       "RH_1         19735.0   40.259739    3.979299   27.023333   37.333333   \n",
       "T2           19735.0   20.341219    2.192974   16.100000   18.790000   \n",
       "RH_2         19735.0   40.420420    4.069813   20.463333   37.900000   \n",
       "T3           19735.0   22.267611    2.006111   17.200000   20.790000   \n",
       "RH_3         19735.0   39.242500    3.254576   28.766667   36.900000   \n",
       "T4           19735.0   20.855335    2.042884   15.100000   19.530000   \n",
       "RH_4         19735.0   39.026904    4.341321   27.660000   35.530000   \n",
       "T5           19735.0   19.592106    1.844623   15.330000   18.277500   \n",
       "RH_5         19735.0   50.949283    9.022034   29.815000   45.400000   \n",
       "T6           19735.0    7.910939    6.090347   -6.065000    3.626667   \n",
       "RH_6         19735.0   54.609083   31.149806    1.000000   30.025000   \n",
       "T7           19735.0   20.267106    2.109993   15.390000   18.700000   \n",
       "RH_7         19735.0   35.388200    5.114208   23.200000   31.500000   \n",
       "T8           19735.0   22.029107    1.956162   16.306667   20.790000   \n",
       "RH_8         19735.0   42.936165    5.224361   29.600000   39.066667   \n",
       "T9           19735.0   19.485828    2.014712   14.890000   18.000000   \n",
       "RH_9         19735.0   41.552401    4.151497   29.166667   38.500000   \n",
       "T_out        19735.0    7.411665    5.317409   -5.000000    3.666667   \n",
       "Press_mm_hg  19735.0  755.522602    7.399441  729.300000  750.933333   \n",
       "RH_out       19735.0   79.750418   14.901088   24.000000   70.333333   \n",
       "Windspeed    19735.0    4.039752    2.451221    0.000000    2.000000   \n",
       "Visibility   19735.0   38.330834   11.794719    1.000000   29.000000   \n",
       "Tdewpoint    19735.0    3.760707    4.194648   -6.600000    0.900000   \n",
       "rv1          19735.0   24.988033   14.496634    0.005322   12.497889   \n",
       "rv2          19735.0   24.988033   14.496634    0.005322   12.497889   \n",
       "\n",
       "                    50%         75%          max  \n",
       "Appliances    60.000000  100.000000  1080.000000  \n",
       "T1            21.600000   22.600000    26.260000  \n",
       "RH_1          39.656667   43.066667    63.360000  \n",
       "T2            20.000000   21.500000    29.856667  \n",
       "RH_2          40.500000   43.260000    56.026667  \n",
       "T3            22.100000   23.290000    29.236000  \n",
       "RH_3          38.530000   41.760000    50.163333  \n",
       "T4            20.666667   22.100000    26.200000  \n",
       "RH_4          38.400000   42.156667    51.090000  \n",
       "T5            19.390000   20.619643    25.795000  \n",
       "RH_5          49.090000   53.663333    96.321667  \n",
       "T6             7.300000   11.256000    28.290000  \n",
       "RH_6          55.290000   83.226667    99.900000  \n",
       "T7            20.033333   21.600000    26.000000  \n",
       "RH_7          34.863333   39.000000    51.400000  \n",
       "T8            22.100000   23.390000    27.230000  \n",
       "RH_8          42.375000   46.536000    58.780000  \n",
       "T9            19.390000   20.600000    24.500000  \n",
       "RH_9          40.900000   44.338095    53.326667  \n",
       "T_out          6.916667   10.408333    26.100000  \n",
       "Press_mm_hg  756.100000  760.933333   772.300000  \n",
       "RH_out        83.666667   91.666667   100.000000  \n",
       "Windspeed      3.666667    5.500000    14.000000  \n",
       "Visibility    40.000000   40.000000    66.000000  \n",
       "Tdewpoint      3.433333    6.566667    15.500000  \n",
       "rv1           24.897653   37.583769    49.996530  \n",
       "rv2           24.897653   37.583769    49.996530  "
      ]
     },
     "execution_count": 4,
     "metadata": {},
     "output_type": "execute_result"
    }
   ],
   "source": [
    "df.describe().T"
   ]
  },
  {
   "cell_type": "code",
   "execution_count": 5,
   "id": "668250f4",
   "metadata": {
    "scrolled": true
   },
   "outputs": [
    {
     "name": "stdout",
     "output_type": "stream",
     "text": [
      "R-squared value:  0.64\n"
     ]
    }
   ],
   "source": [
    "\n",
    "\n",
    "# Extract the predictor variable (x = T2) and the target variable (y = T6)\n",
    "x = df[['T2']]\n",
    "y = df['T6']\n",
    "\n",
    "# Create and fit the linear regression model\n",
    "model = LinearRegression()\n",
    "model.fit(x, y)\n",
    "# Obtain the predictions\n",
    "predictions = model.predict(x)\n",
    "\n",
    "# Calculate the R-squared value\n",
    "r_squared = r2_score(y, predictions)\n",
    "rounded_r_squared = round(r_squared, 2)\n",
    "print(\"R-squared value: \", rounded_r_squared)\n",
    "\n",
    "\n"
   ]
  },
  {
   "cell_type": "markdown",
   "id": "9e459c85",
   "metadata": {},
   "source": [
    "Question:\n",
    "Normalize the dataset using the MinMaxScaler after removing the following columns: [“date”, “lights”]. The target variable is “Appliances”. Use a 70-30 train-test set split with a random state of 42 (for reproducibility). Run a multiple linear regression using the training set and evaluate your model on the test set. Answer the following questions:\n",
    "\n",
    "What is the Mean Absolute Error (in two decimal places)?"
   ]
  },
  {
   "cell_type": "code",
   "execution_count": 6,
   "id": "099a70a0",
   "metadata": {},
   "outputs": [
    {
     "name": "stdout",
     "output_type": "stream",
     "text": [
      "Mean Absolute Error (MAE):  0.05\n"
     ]
    }
   ],
   "source": [
    "\n",
    "# Normalize the dataset using MinMaxScaler\n",
    "scaler = MinMaxScaler()\n",
    "X_scaled = pd.DataFrame(scaler.fit_transform(df), columns=df.columns)\n",
    "# Split dataset into predictor variables (X) and target variable (y)\n",
    "X = X_scaled.drop('Appliances', axis=1)\n",
    "y = X_scaled['Appliances']\n",
    "# Split the dataset into train and test sets\n",
    "X_train, X_test, y_train, y_test = train_test_split(X, y, test_size=0.3, random_state=42)\n",
    "\n",
    "# Fit the multiple linear regression model on the training set\n",
    "model = LinearRegression()\n",
    "model.fit(X_train, y_train)\n",
    "\n",
    "# Make predictions on the test set\n",
    "y_pred = model.predict(X_test)\n",
    "\n",
    "# Calculate the Mean Absolute Error (MAE)\n",
    "mae = mean_absolute_error(y_test, y_pred)\n",
    "rounded_mae = round(mae, 2)\n",
    "print(\"Mean Absolute Error (MAE): \", rounded_mae)\n"
   ]
  },
  {
   "cell_type": "markdown",
   "id": "797ee234",
   "metadata": {},
   "source": [
    "Question:\n",
    "    What is the Residual Sum of Squares (in two decimal places)?"
   ]
  },
  {
   "cell_type": "code",
   "execution_count": 7,
   "id": "232e2737",
   "metadata": {
    "scrolled": true
   },
   "outputs": [
    {
     "name": "stdout",
     "output_type": "stream",
     "text": [
      "Residual Sum of Squares (RSS):  45.35\n"
     ]
    }
   ],
   "source": [
    "# Calculate the residual sum of squares (RSS)\n",
    "residuals = y_test - y_pred\n",
    "rss = sum(residuals ** 2)\n",
    "# print the Residual Sum of Squares (in two decimal places)\n",
    "print(\"Residual Sum of Squares (RSS): \", round(rss,2))\n"
   ]
  },
  {
   "cell_type": "markdown",
   "id": "78c66638",
   "metadata": {},
   "source": [
    "Question:\n",
    "What is the Root Mean Squared Error (in three decimal places)?"
   ]
  },
  {
   "cell_type": "code",
   "execution_count": 8,
   "id": "5e1b6675",
   "metadata": {
    "scrolled": true
   },
   "outputs": [
    {
     "name": "stdout",
     "output_type": "stream",
     "text": [
      "Root Mean Squared Error (RMSE):  0.088\n"
     ]
    }
   ],
   "source": [
    "from sklearn.metrics import mean_squared_error\n",
    "\n",
    "# Calculate the root mean squared error (RMSE)\n",
    "rmse = mean_squared_error(y_test, y_pred, squared=False)\n",
    "print(\"Root Mean Squared Error (RMSE): \", round(rmse,3))\n"
   ]
  },
  {
   "cell_type": "markdown",
   "id": "9d9cd684",
   "metadata": {},
   "source": [
    "Question:\n",
    "What is the Coefficient of Determination (in two decimal places)?\n"
   ]
  },
  {
   "cell_type": "code",
   "execution_count": 9,
   "id": "5a6149fc",
   "metadata": {
    "scrolled": true
   },
   "outputs": [
    {
     "name": "stdout",
     "output_type": "stream",
     "text": [
      "Coefficient of Determination:  0.15\n"
     ]
    }
   ],
   "source": [
    "# Calculate the coefficient of determination \n",
    "r2 = r2_score(y_test, y_pred)\n",
    "print(\"Coefficient of Determination: \", round(r2,2))\n"
   ]
  },
  {
   "cell_type": "markdown",
   "id": "43e130f8",
   "metadata": {},
   "source": [
    "Question:\n",
    "    Obtain the feature weights from your linear model above. Which features have the lowest and highest weights respectively?"
   ]
  },
  {
   "cell_type": "code",
   "execution_count": 10,
   "id": "84112f53",
   "metadata": {},
   "outputs": [
    {
     "name": "stdout",
     "output_type": "stream",
     "text": [
      "Feature with the lowest weight:  RH_2\n",
      "Feature with the highest weight:  RH_1\n"
     ]
    }
   ],
   "source": [
    "# Obtain the feature weights (coefficients) from the linear model\n",
    "feature_weights = pd.DataFrame({'Features': X.columns, 'Weights': model.coef_})\n",
    "\n",
    "# Sort the feature weights in ascending order\n",
    "feature_weights = feature_weights.sort_values(by='Weights')\n",
    "\n",
    "# Identify the features with the lowest and highest weights\n",
    "lowest_weight_feature = feature_weights.iloc[0]['Features']\n",
    "highest_weight_feature = feature_weights.iloc[-1]['Features']\n",
    "\n",
    "print(\"Feature with the lowest weight: \", lowest_weight_feature)\n",
    "print(\"Feature with the highest weight: \", highest_weight_feature)\n"
   ]
  },
  {
   "cell_type": "markdown",
   "id": "9f6025e0",
   "metadata": {},
   "source": [
    "Question:\n",
    "    Train a ridge regression model with an alpha value of 0.4. Is there any change to the root mean squared error (RMSE) when evaluated on the test set?"
   ]
  },
  {
   "cell_type": "code",
   "execution_count": 11,
   "id": "a5709b7b",
   "metadata": {},
   "outputs": [
    {
     "name": "stdout",
     "output_type": "stream",
     "text": [
      "Root Mean Squared Error (RMSE) with Ridge Regression:  0.0875144494766171\n"
     ]
    }
   ],
   "source": [
    "\n",
    "from sklearn.linear_model import Ridge\n",
    "\n",
    "\n",
    "# Train a ridge regression model with alpha=0.4\n",
    "ridge_model = Ridge(alpha=0.4)\n",
    "ridge_model.fit(X_train, y_train)\n",
    "\n",
    "# Make predictions on the test set\n",
    "predictions = ridge_model.predict(X_test)\n",
    "\n",
    "# Calculate the RMSE on the test set\n",
    "rmse = mean_squared_error(y_test, y_pred, squared=False)\n",
    "print(\"Root Mean Squared Error (RMSE) with Ridge Regression: \", rmse)\n"
   ]
  },
  {
   "cell_type": "markdown",
   "id": "3c84f50c",
   "metadata": {},
   "source": [
    "question 19:\n",
    "Train a lasso regression model with an alpha value of 0.001 and obtain the new feature weights with it. How many of the features have non-zero feature weights?"
   ]
  },
  {
   "cell_type": "code",
   "execution_count": 12,
   "id": "9e948b5f",
   "metadata": {
    "scrolled": true
   },
   "outputs": [
    {
     "name": "stdout",
     "output_type": "stream",
     "text": [
      "Number of features with non-zero weights:  4\n"
     ]
    }
   ],
   "source": [
    "\n",
    "from sklearn.linear_model import Lasso\n",
    "\n",
    "# Train a Lasso regression model with alpha=0.001\n",
    "lasso_model = Lasso(alpha=0.001)\n",
    "lasso_model.fit(X_train, y_train)\n",
    "\n",
    "# Obtain the feature weights from the Lasso model\n",
    "feature_weights = pd.DataFrame({'Features': X.columns, 'Weights': lasso_model.coef_})\n",
    "\n",
    "# Count the number of features with non-zero weights\n",
    "non_zero_features = (feature_weights['Weights'] != 0).sum()\n",
    "\n",
    "print(\"Number of features with non-zero weights: \", non_zero_features)\n"
   ]
  },
  {
   "cell_type": "markdown",
   "id": "e93444b2",
   "metadata": {},
   "source": [
    "Question 20:\n",
    "    What is the new RMSE with the lasso regression? (Answer should be in three (3) decimal places)"
   ]
  },
  {
   "cell_type": "code",
   "execution_count": 13,
   "id": "73d44a40",
   "metadata": {},
   "outputs": [
    {
     "name": "stdout",
     "output_type": "stream",
     "text": [
      "Root Mean Squared Error (RMSE) with Lasso Regression:  0.094\n"
     ]
    }
   ],
   "source": [
    "# Train a Lasso regression model with alpha=0.001\n",
    "lasso_model = Lasso(alpha=0.001)\n",
    "lasso_model.fit(X_train, y_train)\n",
    "\n",
    "# Make predictions on the test set\n",
    "predictions = lasso_model.predict(X_test)\n",
    "\n",
    "# Calculate the RMSE on the test set\n",
    "rmse = mean_squared_error(y_test, predictions, squared=False)\n",
    "print(\"Root Mean Squared Error (RMSE) with Lasso Regression: \", round(rmse,3))\n"
   ]
  }
 ],
 "metadata": {
  "kernelspec": {
   "display_name": "Python 3 (ipykernel)",
   "language": "python",
   "name": "python3"
  },
  "language_info": {
   "codemirror_mode": {
    "name": "ipython",
    "version": 3
   },
   "file_extension": ".py",
   "mimetype": "text/x-python",
   "name": "python",
   "nbconvert_exporter": "python",
   "pygments_lexer": "ipython3",
   "version": "3.10.9"
  }
 },
 "nbformat": 4,
 "nbformat_minor": 5
}
